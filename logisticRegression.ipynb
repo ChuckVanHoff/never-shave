{
 "cells": [
  {
   "cell_type": "code",
   "execution_count": 1,
   "metadata": {},
   "outputs": [],
   "source": [
    "%matplotlib inline\n",
    "import matplotlib.pyplot as plt\n",
    "import pandas as pd"
   ]
  },
  {
   "cell_type": "code",
   "execution_count": 2,
   "metadata": {},
   "outputs": [],
   "source": [
    "earnings10yr = pd.read_csv('earnings_10yr.csv')\n",
    "cost = pd.read_csv('cost.csv')\n",
    "debt = pd.read_csv('debtRepymt.csv')\n",
    "schoolType = pd.read_csv('type.csv')"
   ]
  },
  {
   "cell_type": "code",
   "execution_count": 3,
   "metadata": {},
   "outputs": [],
   "source": [
    "earninings_cost = pd.merge(earnings10yr, cost, on='UNITID')"
   ]
  },
  {
   "cell_type": "code",
   "execution_count": 4,
   "metadata": {},
   "outputs": [],
   "source": [
    "earninings_cost_debt = pd.merge(earninings_cost, debt, on='UNITID')\n"
   ]
  },
  {
   "cell_type": "code",
   "execution_count": 5,
   "metadata": {},
   "outputs": [
    {
     "data": {
      "text/plain": [
       "['Unnamed: 0',\n",
       " 'UNITID',\n",
       " 'INSTNM',\n",
       " 'Median_earn_10yr_postgrad',\n",
       " 'Mean_earn_10yr_postgrad',\n",
       " 'Mean_earn_10yr_postgrad_female',\n",
       " 'Mean_earn_10yr_postgrad_male',\n",
       " 'Num_stud_10yr_postgrad_earn_less_30k',\n",
       " 'Num_stud_10yr_postgrad_earn_less_30k.1',\n",
       " 'Num_stud_10yr_postgrad_earn_30_75k',\n",
       " 'Num_stud_10yr_postgrad_earn_75k_more',\n",
       " 'Num_stud_10yr_postgrad_earn_75k_more.1',\n",
       " 'Mean_stud_10yr_postgrad_earn_less_30k',\n",
       " 'Mean_stud_10yr_postgrad_earn_30_75k',\n",
       " 'Num_stud_10yr_postgrad_earn_75k_more.2',\n",
       " 'Num_stud_10yr_postgrad_earn_75k_more.3',\n",
       " 'Institution_Name_x',\n",
       " 'Average_Cost_Of_Attendance_By_Academic_Year',\n",
       " 'Instate_Tuition_&_Fees',\n",
       " 'Out_Of_State_Tuition_&_Fees',\n",
       " 'Institution_Name_y',\n",
       " 'Predom_DegreeGranting',\n",
       " 'Med_Student_Debt_Female',\n",
       " 'Med_Student_Debt_Male',\n",
       " 'Med_Student_Debt_First_Gen',\n",
       " 'Med_Student_Debt_Non_First_Gen',\n",
       " '7yr Repymt Rate (Female)',\n",
       " '7yr Repymt Rate (Male)',\n",
       " '7yr Repymt Rate (First Gen)',\n",
       " '7yr Repymt Rate (Non-Firs Gen)',\n",
       " 'Institution_Name',\n",
       " 'Public_Privatenp_Privatefp',\n",
       " 'Type']"
      ]
     },
     "execution_count": 5,
     "metadata": {},
     "output_type": "execute_result"
    }
   ],
   "source": [
    "earninings_cost_debt_type = pd.merge(earninings_cost_debt, schoolType, on='UNITID')\n",
    "list(earninings_cost_debt_type)"
   ]
  },
  {
   "cell_type": "code",
   "execution_count": 6,
   "metadata": {},
   "outputs": [
    {
     "data": {
      "text/html": [
       "<div>\n",
       "<style scoped>\n",
       "    .dataframe tbody tr th:only-of-type {\n",
       "        vertical-align: middle;\n",
       "    }\n",
       "\n",
       "    .dataframe tbody tr th {\n",
       "        vertical-align: top;\n",
       "    }\n",
       "\n",
       "    .dataframe thead th {\n",
       "        text-align: right;\n",
       "    }\n",
       "</style>\n",
       "<table border=\"1\" class=\"dataframe\">\n",
       "  <thead>\n",
       "    <tr style=\"text-align: right;\">\n",
       "      <th></th>\n",
       "      <th>Average_Cost_Of_Attendance_By_Academic_Year</th>\n",
       "      <th>Median_earn_10yr_postgrad</th>\n",
       "      <th>Med_Student_Debt_Non_First_Gen</th>\n",
       "      <th>Type</th>\n",
       "    </tr>\n",
       "  </thead>\n",
       "  <tbody>\n",
       "    <tr>\n",
       "      <th>0</th>\n",
       "      <td>22667.0</td>\n",
       "      <td>31000</td>\n",
       "      <td>14000</td>\n",
       "      <td>Public</td>\n",
       "    </tr>\n",
       "    <tr>\n",
       "      <th>1</th>\n",
       "      <td>22684.0</td>\n",
       "      <td>41200</td>\n",
       "      <td>15000</td>\n",
       "      <td>Public</td>\n",
       "    </tr>\n",
       "    <tr>\n",
       "      <th>2</th>\n",
       "      <td>13380.0</td>\n",
       "      <td>39600</td>\n",
       "      <td>10750</td>\n",
       "      <td>Private Non-Profit</td>\n",
       "    </tr>\n",
       "    <tr>\n",
       "      <th>3</th>\n",
       "      <td>22059.0</td>\n",
       "      <td>46700</td>\n",
       "      <td>13502</td>\n",
       "      <td>Public</td>\n",
       "    </tr>\n",
       "    <tr>\n",
       "      <th>4</th>\n",
       "      <td>19242.0</td>\n",
       "      <td>27700</td>\n",
       "      <td>15250</td>\n",
       "      <td>Public</td>\n",
       "    </tr>\n",
       "  </tbody>\n",
       "</table>\n",
       "</div>"
      ],
      "text/plain": [
       "   Average_Cost_Of_Attendance_By_Academic_Year Median_earn_10yr_postgrad  \\\n",
       "0                                      22667.0                     31000   \n",
       "1                                      22684.0                     41200   \n",
       "2                                      13380.0                     39600   \n",
       "3                                      22059.0                     46700   \n",
       "4                                      19242.0                     27700   \n",
       "\n",
       "  Med_Student_Debt_Non_First_Gen                Type  \n",
       "0                          14000              Public  \n",
       "1                          15000              Public  \n",
       "2                          10750  Private Non-Profit  \n",
       "3                          13502              Public  \n",
       "4                          15250              Public  "
      ]
     },
     "execution_count": 6,
     "metadata": {},
     "output_type": "execute_result"
    }
   ],
   "source": [
    "earninings_cost_debt_type_clean = earninings_cost_debt_type[[\"Average_Cost_Of_Attendance_By_Academic_Year\",\"Median_earn_10yr_postgrad\", \"Med_Student_Debt_Non_First_Gen\", \"Type\" ]]\n",
    "earninings_cost_debt_type_clean.head()"
   ]
  },
  {
   "cell_type": "code",
   "execution_count": 7,
   "metadata": {},
   "outputs": [
    {
     "name": "stderr",
     "output_type": "stream",
     "text": [
      "C:\\Users\\natal\\Anaconda3\\envs\\PythonData\\lib\\site-packages\\ipykernel_launcher.py:1: SettingWithCopyWarning: \n",
      "A value is trying to be set on a copy of a slice from a DataFrame.\n",
      "Try using .loc[row_indexer,col_indexer] = value instead\n",
      "\n",
      "See the caveats in the documentation: http://pandas.pydata.org/pandas-docs/stable/indexing.html#indexing-view-versus-copy\n",
      "  \"\"\"Entry point for launching an IPython kernel.\n"
     ]
    },
    {
     "data": {
      "text/html": [
       "<div>\n",
       "<style scoped>\n",
       "    .dataframe tbody tr th:only-of-type {\n",
       "        vertical-align: middle;\n",
       "    }\n",
       "\n",
       "    .dataframe tbody tr th {\n",
       "        vertical-align: top;\n",
       "    }\n",
       "\n",
       "    .dataframe thead th {\n",
       "        text-align: right;\n",
       "    }\n",
       "</style>\n",
       "<table border=\"1\" class=\"dataframe\">\n",
       "  <thead>\n",
       "    <tr style=\"text-align: right;\">\n",
       "      <th></th>\n",
       "      <th>Average_Cost_Of_Attendance_By_Academic_Year</th>\n",
       "      <th>Median_earn_10yr_postgrad</th>\n",
       "      <th>Med_Student_Debt_Non_First_Gen</th>\n",
       "      <th>Type</th>\n",
       "    </tr>\n",
       "  </thead>\n",
       "  <tbody>\n",
       "    <tr>\n",
       "      <th>0</th>\n",
       "      <td>22667.0</td>\n",
       "      <td>31000</td>\n",
       "      <td>14000</td>\n",
       "      <td>Public</td>\n",
       "    </tr>\n",
       "    <tr>\n",
       "      <th>1</th>\n",
       "      <td>22684.0</td>\n",
       "      <td>41200</td>\n",
       "      <td>15000</td>\n",
       "      <td>Public</td>\n",
       "    </tr>\n",
       "    <tr>\n",
       "      <th>2</th>\n",
       "      <td>13380.0</td>\n",
       "      <td>39600</td>\n",
       "      <td>10750</td>\n",
       "      <td>Private</td>\n",
       "    </tr>\n",
       "    <tr>\n",
       "      <th>3</th>\n",
       "      <td>22059.0</td>\n",
       "      <td>46700</td>\n",
       "      <td>13502</td>\n",
       "      <td>Public</td>\n",
       "    </tr>\n",
       "    <tr>\n",
       "      <th>4</th>\n",
       "      <td>19242.0</td>\n",
       "      <td>27700</td>\n",
       "      <td>15250</td>\n",
       "      <td>Public</td>\n",
       "    </tr>\n",
       "  </tbody>\n",
       "</table>\n",
       "</div>"
      ],
      "text/plain": [
       "   Average_Cost_Of_Attendance_By_Academic_Year Median_earn_10yr_postgrad  \\\n",
       "0                                      22667.0                     31000   \n",
       "1                                      22684.0                     41200   \n",
       "2                                      13380.0                     39600   \n",
       "3                                      22059.0                     46700   \n",
       "4                                      19242.0                     27700   \n",
       "\n",
       "  Med_Student_Debt_Non_First_Gen     Type  \n",
       "0                          14000   Public  \n",
       "1                          15000   Public  \n",
       "2                          10750  Private  \n",
       "3                          13502   Public  \n",
       "4                          15250   Public  "
      ]
     },
     "execution_count": 7,
     "metadata": {},
     "output_type": "execute_result"
    }
   ],
   "source": [
    "earninings_cost_debt_type_clean[\"Type\"] =  schoolType.Type.str.split().str.get(0)\n",
    "earninings_cost_debt_type_clean.head()"
   ]
  },
  {
   "cell_type": "code",
   "execution_count": 8,
   "metadata": {},
   "outputs": [
    {
     "name": "stderr",
     "output_type": "stream",
     "text": [
      "C:\\Users\\natal\\Anaconda3\\envs\\PythonData\\lib\\site-packages\\ipykernel_launcher.py:1: SettingWithCopyWarning: \n",
      "A value is trying to be set on a copy of a slice from a DataFrame.\n",
      "Try using .loc[row_indexer,col_indexer] = value instead\n",
      "\n",
      "See the caveats in the documentation: http://pandas.pydata.org/pandas-docs/stable/indexing.html#indexing-view-versus-copy\n",
      "  \"\"\"Entry point for launching an IPython kernel.\n"
     ]
    },
    {
     "data": {
      "text/html": [
       "<div>\n",
       "<style scoped>\n",
       "    .dataframe tbody tr th:only-of-type {\n",
       "        vertical-align: middle;\n",
       "    }\n",
       "\n",
       "    .dataframe tbody tr th {\n",
       "        vertical-align: top;\n",
       "    }\n",
       "\n",
       "    .dataframe thead th {\n",
       "        text-align: right;\n",
       "    }\n",
       "</style>\n",
       "<table border=\"1\" class=\"dataframe\">\n",
       "  <thead>\n",
       "    <tr style=\"text-align: right;\">\n",
       "      <th></th>\n",
       "      <th>Average_Cost_Of_Attendance_By_Academic_Year</th>\n",
       "      <th>Median_earn_10yr_postgrad</th>\n",
       "      <th>Med_Student_Debt_Non_First_Gen</th>\n",
       "      <th>Type</th>\n",
       "    </tr>\n",
       "  </thead>\n",
       "  <tbody>\n",
       "    <tr>\n",
       "      <th>0</th>\n",
       "      <td>22667.0</td>\n",
       "      <td>31000</td>\n",
       "      <td>14000</td>\n",
       "      <td>0</td>\n",
       "    </tr>\n",
       "    <tr>\n",
       "      <th>1</th>\n",
       "      <td>22684.0</td>\n",
       "      <td>41200</td>\n",
       "      <td>15000</td>\n",
       "      <td>0</td>\n",
       "    </tr>\n",
       "    <tr>\n",
       "      <th>2</th>\n",
       "      <td>13380.0</td>\n",
       "      <td>39600</td>\n",
       "      <td>10750</td>\n",
       "      <td>1</td>\n",
       "    </tr>\n",
       "    <tr>\n",
       "      <th>3</th>\n",
       "      <td>22059.0</td>\n",
       "      <td>46700</td>\n",
       "      <td>13502</td>\n",
       "      <td>0</td>\n",
       "    </tr>\n",
       "    <tr>\n",
       "      <th>4</th>\n",
       "      <td>19242.0</td>\n",
       "      <td>27700</td>\n",
       "      <td>15250</td>\n",
       "      <td>0</td>\n",
       "    </tr>\n",
       "  </tbody>\n",
       "</table>\n",
       "</div>"
      ],
      "text/plain": [
       "   Average_Cost_Of_Attendance_By_Academic_Year Median_earn_10yr_postgrad  \\\n",
       "0                                      22667.0                     31000   \n",
       "1                                      22684.0                     41200   \n",
       "2                                      13380.0                     39600   \n",
       "3                                      22059.0                     46700   \n",
       "4                                      19242.0                     27700   \n",
       "\n",
       "  Med_Student_Debt_Non_First_Gen  Type  \n",
       "0                          14000     0  \n",
       "1                          15000     0  \n",
       "2                          10750     1  \n",
       "3                          13502     0  \n",
       "4                          15250     0  "
      ]
     },
     "execution_count": 8,
     "metadata": {},
     "output_type": "execute_result"
    }
   ],
   "source": [
    "earninings_cost_debt_type_clean[\"Type\"] = pd.get_dummies(earninings_cost_debt_type_clean[\"Type\"])\n",
    "earninings_cost_debt_type_clean.head()"
   ]
  },
  {
   "cell_type": "code",
   "execution_count": 19,
   "metadata": {},
   "outputs": [],
   "source": [
    "earninings_cost_debt_type_clean[\"Average_Cost_Of_Attendance_By_Academic_Year\"] = earninings_cost_debt_type_clean[\"Average_Cost_Of_Attendance_By_Academic_Year\"].replace('PrivacySuppressed', '')\n",
    "earninings_cost_debt_type_clean[\"Median_earn_10yr_postgrad\"] = earninings_cost_debt_type_clean[\"Median_earn_10yr_postgrad\"].replace('PrivacySuppressed', '')\n",
    "earninings_cost_debt_type_clean[\"Med_Student_Debt_Non_First_Gen\"] = earninings_cost_debt_type_clean[\"Med_Student_Debt_Non_First_Gen\"].replace('PrivacySuppressed', '')\n",
    "earninings_cost_debt_type_clean[\"Type\"] = earninings_cost_debt_type_clean[\"Type\"].replace('PrivacySuppressed', '')\n",
    "# earninings_cost_debt_type_clean"
   ]
  },
  {
   "cell_type": "code",
   "execution_count": 22,
   "metadata": {},
   "outputs": [],
   "source": [
    "earninings_cost_debt_type_clean = earninings_cost_debt_type_clean.dropna(axis=0,  how='any')\n"
   ]
  },
  {
   "cell_type": "code",
   "execution_count": 27,
   "metadata": {},
   "outputs": [],
   "source": [
    "# earninings_cost_debt_type_clean = earninings_cost_debt_type_clean.drop(earninings_cost_debt_type_clean[earninings_cost_debt_type_clean.Average_Cost_Of_Attendance_By_Academic_Year == ''].index)\n",
    "earninings_cost_debt_type_clean = earninings_cost_debt_type_clean.drop(earninings_cost_debt_type_clean[earninings_cost_debt_type_clean.Median_earn_10yr_postgrad == ''].index)\n",
    "earninings_cost_debt_type_clean = earninings_cost_debt_type_clean.drop(earninings_cost_debt_type_clean[earninings_cost_debt_type_clean.Med_Student_Debt_Non_First_Gen == ''].index)\n"
   ]
  },
  {
   "cell_type": "code",
   "execution_count": 28,
   "metadata": {},
   "outputs": [],
   "source": [
    "earninings_cost_debt_type_clean = earninings_cost_debt_type_clean.dropna(axis=0,  how='any')"
   ]
  },
  {
   "cell_type": "code",
   "execution_count": 29,
   "metadata": {},
   "outputs": [
    {
     "name": "stdout",
     "output_type": "stream",
     "text": [
      "(3150, 3) (3150,)\n"
     ]
    }
   ],
   "source": [
    "# Assign X (data) and y (target)\n",
    "X = earninings_cost_debt_type_clean.drop(\"Type\", axis=1)\n",
    "y = earninings_cost_debt_type_clean[\"Type\"]\n",
    "print(X.shape, y.shape)"
   ]
  },
  {
   "cell_type": "code",
   "execution_count": 71,
   "metadata": {},
   "outputs": [
    {
     "ename": "AttributeError",
     "evalue": "'DataFrame' object has no attribute 'dtype'",
     "output_type": "error",
     "traceback": [
      "\u001b[1;31m---------------------------------------------------------------------------\u001b[0m",
      "\u001b[1;31mAttributeError\u001b[0m                            Traceback (most recent call last)",
      "\u001b[1;32m<ipython-input-71-79d29c2e29eb>\u001b[0m in \u001b[0;36m<module>\u001b[1;34m()\u001b[0m\n\u001b[0;32m      2\u001b[0m \u001b[1;33m\u001b[0m\u001b[0m\n\u001b[0;32m      3\u001b[0m \u001b[0mX_train\u001b[0m\u001b[1;33m,\u001b[0m \u001b[0mX_test\u001b[0m\u001b[1;33m,\u001b[0m \u001b[0my_train\u001b[0m\u001b[1;33m,\u001b[0m \u001b[0my_test\u001b[0m \u001b[1;33m=\u001b[0m \u001b[0mtrain_test_split\u001b[0m\u001b[1;33m(\u001b[0m\u001b[0mX\u001b[0m\u001b[1;33m,\u001b[0m \u001b[0my\u001b[0m\u001b[1;33m,\u001b[0m \u001b[0mrandom_state\u001b[0m\u001b[1;33m=\u001b[0m\u001b[1;36m1\u001b[0m\u001b[1;33m,\u001b[0m \u001b[0mstratify\u001b[0m\u001b[1;33m=\u001b[0m\u001b[0my\u001b[0m\u001b[1;33m)\u001b[0m\u001b[1;33m\u001b[0m\u001b[0m\n\u001b[1;32m----> 4\u001b[1;33m \u001b[0mX_train\u001b[0m\u001b[1;33m.\u001b[0m\u001b[0mdtype\u001b[0m\u001b[1;33m(\u001b[0m\u001b[1;33m)\u001b[0m\u001b[1;33m\u001b[0m\u001b[0m\n\u001b[0m",
      "\u001b[1;32m~\\Anaconda3\\envs\\PythonData\\lib\\site-packages\\pandas\\core\\generic.py\u001b[0m in \u001b[0;36m__getattr__\u001b[1;34m(self, name)\u001b[0m\n\u001b[0;32m   4374\u001b[0m             \u001b[1;32mif\u001b[0m \u001b[0mself\u001b[0m\u001b[1;33m.\u001b[0m\u001b[0m_info_axis\u001b[0m\u001b[1;33m.\u001b[0m\u001b[0m_can_hold_identifiers_and_holds_name\u001b[0m\u001b[1;33m(\u001b[0m\u001b[0mname\u001b[0m\u001b[1;33m)\u001b[0m\u001b[1;33m:\u001b[0m\u001b[1;33m\u001b[0m\u001b[0m\n\u001b[0;32m   4375\u001b[0m                 \u001b[1;32mreturn\u001b[0m \u001b[0mself\u001b[0m\u001b[1;33m[\u001b[0m\u001b[0mname\u001b[0m\u001b[1;33m]\u001b[0m\u001b[1;33m\u001b[0m\u001b[0m\n\u001b[1;32m-> 4376\u001b[1;33m             \u001b[1;32mreturn\u001b[0m \u001b[0mobject\u001b[0m\u001b[1;33m.\u001b[0m\u001b[0m__getattribute__\u001b[0m\u001b[1;33m(\u001b[0m\u001b[0mself\u001b[0m\u001b[1;33m,\u001b[0m \u001b[0mname\u001b[0m\u001b[1;33m)\u001b[0m\u001b[1;33m\u001b[0m\u001b[0m\n\u001b[0m\u001b[0;32m   4377\u001b[0m \u001b[1;33m\u001b[0m\u001b[0m\n\u001b[0;32m   4378\u001b[0m     \u001b[1;32mdef\u001b[0m \u001b[0m__setattr__\u001b[0m\u001b[1;33m(\u001b[0m\u001b[0mself\u001b[0m\u001b[1;33m,\u001b[0m \u001b[0mname\u001b[0m\u001b[1;33m,\u001b[0m \u001b[0mvalue\u001b[0m\u001b[1;33m)\u001b[0m\u001b[1;33m:\u001b[0m\u001b[1;33m\u001b[0m\u001b[0m\n",
      "\u001b[1;31mAttributeError\u001b[0m: 'DataFrame' object has no attribute 'dtype'"
     ]
    }
   ],
   "source": [
    "from sklearn.model_selection import train_test_split\n",
    "\n",
    "X_train, X_test, y_train, y_test = train_test_split(X, y, random_state=1, stratify=y)\n",
    "X_train.dtype()"
   ]
  },
  {
   "cell_type": "code",
   "execution_count": 38,
   "metadata": {},
   "outputs": [
    {
     "data": {
      "text/plain": [
       "LogisticRegression(C=1.0, class_weight=None, dual=False, fit_intercept=True,\n",
       "          intercept_scaling=1, max_iter=100, multi_class='ovr', n_jobs=1,\n",
       "          penalty='l2', random_state=None, solver='liblinear', tol=0.0001,\n",
       "          verbose=0, warm_start=False)"
      ]
     },
     "execution_count": 38,
     "metadata": {},
     "output_type": "execute_result"
    }
   ],
   "source": [
    "from sklearn.linear_model import LogisticRegression\n",
    "model = LogisticRegression()\n",
    "model"
   ]
  },
  {
   "cell_type": "code",
   "execution_count": 39,
   "metadata": {},
   "outputs": [
    {
     "data": {
      "text/plain": [
       "LogisticRegression(C=1.0, class_weight=None, dual=False, fit_intercept=True,\n",
       "          intercept_scaling=1, max_iter=100, multi_class='ovr', n_jobs=1,\n",
       "          penalty='l2', random_state=None, solver='liblinear', tol=0.0001,\n",
       "          verbose=0, warm_start=False)"
      ]
     },
     "execution_count": 39,
     "metadata": {},
     "output_type": "execute_result"
    }
   ],
   "source": [
    "model.fit(X_train, y_train)"
   ]
  },
  {
   "cell_type": "code",
   "execution_count": 40,
   "metadata": {},
   "outputs": [
    {
     "name": "stdout",
     "output_type": "stream",
     "text": [
      "Training Data Score: 0.9229466553767993\n",
      "Testing Data Score: 0.9149746192893401\n"
     ]
    }
   ],
   "source": [
    "print(f\"Training Data Score: {model.score(X_train, y_train)}\")\n",
    "print(f\"Testing Data Score: {model.score(X_test, y_test)}\")"
   ]
  },
  {
   "cell_type": "code",
   "execution_count": 34,
   "metadata": {},
   "outputs": [
    {
     "name": "stdout",
     "output_type": "stream",
     "text": [
      "First 10 Predictions:   [1 1 0 1 0 1 0 1 0 0]\n",
      "First 10 Actual labels: [1, 0, 0, 1, 0, 1, 1, 0, 0, 0]\n"
     ]
    }
   ],
   "source": [
    "predictions = classifier.predict(X_test)\n",
    "print(f\"First 10 Predictions:   {predictions[:10]}\")\n",
    "print(f\"First 10 Actual labels: {y_test[:10].tolist()}\")"
   ]
  },
  {
   "cell_type": "code",
   "execution_count": 36,
   "metadata": {},
   "outputs": [],
   "source": [
    "# pd.DataFrame({\"Prediction\": predictions, \"Actual\": y_test}).reset_index(drop=True)"
   ]
  },
  {
   "cell_type": "code",
   "execution_count": null,
   "metadata": {},
   "outputs": [],
   "source": [
    "\n"
   ]
  }
 ],
 "metadata": {
  "kernelspec": {
   "display_name": "Python 3",
   "language": "python",
   "name": "python3"
  },
  "language_info": {
   "codemirror_mode": {
    "name": "ipython",
    "version": 3
   },
   "file_extension": ".py",
   "mimetype": "text/x-python",
   "name": "python",
   "nbconvert_exporter": "python",
   "pygments_lexer": "ipython3",
   "version": "3.6.6"
  }
 },
 "nbformat": 4,
 "nbformat_minor": 2
}
