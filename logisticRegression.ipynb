{
 "cells": [
  {
   "cell_type": "code",
   "execution_count": 1,
   "metadata": {},
   "outputs": [],
   "source": [
    "%matplotlib inline\n",
    "import matplotlib.pyplot as plt\n",
    "import pandas as pd"
   ]
  },
  {
   "cell_type": "code",
   "execution_count": 3,
   "metadata": {},
   "outputs": [],
   "source": [
    "earnings10yr = pd.read_csv('Data/earnings_10yr.csv')\n",
    "cost = pd.read_csv('Data/cost.csv')\n",
    "debt = pd.read_csv('Data/debtRepymt.csv')\n",
    "schoolType = pd.read_csv('Data/Type.csv')"
   ]
  },
  {
   "cell_type": "code",
   "execution_count": 4,
   "metadata": {},
   "outputs": [],
   "source": [
    "earninings_cost = pd.merge(earnings10yr, cost, on='UNITID')"
   ]
  },
  {
   "cell_type": "code",
   "execution_count": 5,
   "metadata": {},
   "outputs": [],
   "source": [
    "earninings_cost_debt = pd.merge(earninings_cost, debt, on='UNITID')\n"
   ]
  },
  {
   "cell_type": "code",
   "execution_count": 6,
   "metadata": {},
   "outputs": [
    {
     "data": {
      "text/plain": [
       "['Unnamed: 0',\n",
       " 'UNITID',\n",
       " 'INSTNM',\n",
       " 'Median_earn_10yr_postgrad',\n",
       " 'Mean_earn_10yr_postgrad',\n",
       " 'Mean_earn_10yr_postgrad_female',\n",
       " 'Mean_earn_10yr_postgrad_male',\n",
       " 'Num_stud_10yr_postgrad_earn_less_30k',\n",
       " 'Num_stud_10yr_postgrad_earn_less_30k.1',\n",
       " 'Num_stud_10yr_postgrad_earn_30_75k',\n",
       " 'Num_stud_10yr_postgrad_earn_75k_more',\n",
       " 'Num_stud_10yr_postgrad_earn_75k_more.1',\n",
       " 'Mean_stud_10yr_postgrad_earn_less_30k',\n",
       " 'Mean_stud_10yr_postgrad_earn_30_75k',\n",
       " 'Num_stud_10yr_postgrad_earn_75k_more.2',\n",
       " 'Num_stud_10yr_postgrad_earn_75k_more.3',\n",
       " 'Institution_Name_x',\n",
       " 'Average_Cost_Of_Attendance_By_Academic_Year',\n",
       " 'Instate_Tuition_&_Fees',\n",
       " 'Out_Of_State_Tuition_&_Fees',\n",
       " 'Institution_Name_y',\n",
       " 'Predom_DegreeGranting',\n",
       " 'Med_Student_Debt_Female',\n",
       " 'Med_Student_Debt_Male',\n",
       " 'Med_Student_Debt_First_Gen',\n",
       " 'Med_Student_Debt_Non_First_Gen',\n",
       " '7yr Repymt Rate (Female)',\n",
       " '7yr Repymt Rate (Male)',\n",
       " '7yr Repymt Rate (First Gen)',\n",
       " '7yr Repymt Rate (Non-Firs Gen)',\n",
       " 'Institution_Name',\n",
       " 'Public_Privatenp_Privatefp',\n",
       " 'Type']"
      ]
     },
     "execution_count": 6,
     "metadata": {},
     "output_type": "execute_result"
    }
   ],
   "source": [
    "earninings_cost_debt_type = pd.merge(earninings_cost_debt, schoolType, on='UNITID')\n",
    "list(earninings_cost_debt_type)"
   ]
  },
  {
   "cell_type": "code",
   "execution_count": 7,
   "metadata": {},
   "outputs": [
    {
     "data": {
      "text/html": [
       "<div>\n",
       "<style scoped>\n",
       "    .dataframe tbody tr th:only-of-type {\n",
       "        vertical-align: middle;\n",
       "    }\n",
       "\n",
       "    .dataframe tbody tr th {\n",
       "        vertical-align: top;\n",
       "    }\n",
       "\n",
       "    .dataframe thead th {\n",
       "        text-align: right;\n",
       "    }\n",
       "</style>\n",
       "<table border=\"1\" class=\"dataframe\">\n",
       "  <thead>\n",
       "    <tr style=\"text-align: right;\">\n",
       "      <th></th>\n",
       "      <th>Average_Cost_Of_Attendance_By_Academic_Year</th>\n",
       "      <th>Median_earn_10yr_postgrad</th>\n",
       "      <th>Med_Student_Debt_Non_First_Gen</th>\n",
       "      <th>Type</th>\n",
       "    </tr>\n",
       "  </thead>\n",
       "  <tbody>\n",
       "    <tr>\n",
       "      <th>0</th>\n",
       "      <td>22667.0</td>\n",
       "      <td>31000</td>\n",
       "      <td>14000</td>\n",
       "      <td>Public</td>\n",
       "    </tr>\n",
       "    <tr>\n",
       "      <th>1</th>\n",
       "      <td>22684.0</td>\n",
       "      <td>41200</td>\n",
       "      <td>15000</td>\n",
       "      <td>Public</td>\n",
       "    </tr>\n",
       "    <tr>\n",
       "      <th>2</th>\n",
       "      <td>13380.0</td>\n",
       "      <td>39600</td>\n",
       "      <td>10750</td>\n",
       "      <td>Private Non-Profit</td>\n",
       "    </tr>\n",
       "    <tr>\n",
       "      <th>3</th>\n",
       "      <td>22059.0</td>\n",
       "      <td>46700</td>\n",
       "      <td>13502</td>\n",
       "      <td>Public</td>\n",
       "    </tr>\n",
       "    <tr>\n",
       "      <th>4</th>\n",
       "      <td>19242.0</td>\n",
       "      <td>27700</td>\n",
       "      <td>15250</td>\n",
       "      <td>Public</td>\n",
       "    </tr>\n",
       "  </tbody>\n",
       "</table>\n",
       "</div>"
      ],
      "text/plain": [
       "   Average_Cost_Of_Attendance_By_Academic_Year Median_earn_10yr_postgrad  \\\n",
       "0                                      22667.0                     31000   \n",
       "1                                      22684.0                     41200   \n",
       "2                                      13380.0                     39600   \n",
       "3                                      22059.0                     46700   \n",
       "4                                      19242.0                     27700   \n",
       "\n",
       "  Med_Student_Debt_Non_First_Gen                Type  \n",
       "0                          14000              Public  \n",
       "1                          15000              Public  \n",
       "2                          10750  Private Non-Profit  \n",
       "3                          13502              Public  \n",
       "4                          15250              Public  "
      ]
     },
     "execution_count": 7,
     "metadata": {},
     "output_type": "execute_result"
    }
   ],
   "source": [
    "earninings_cost_debt_type_clean = earninings_cost_debt_type[[\"Average_Cost_Of_Attendance_By_Academic_Year\",\"Median_earn_10yr_postgrad\", \"Med_Student_Debt_Non_First_Gen\", \"Type\" ]]\n",
    "earninings_cost_debt_type_clean.head()"
   ]
  },
  {
   "cell_type": "code",
   "execution_count": 8,
   "metadata": {},
   "outputs": [
    {
     "name": "stderr",
     "output_type": "stream",
     "text": [
      "/Users/brianvanhoff/anaconda3/envs/pythondata/lib/python3.7/site-packages/ipykernel_launcher.py:1: SettingWithCopyWarning: \n",
      "A value is trying to be set on a copy of a slice from a DataFrame.\n",
      "Try using .loc[row_indexer,col_indexer] = value instead\n",
      "\n",
      "See the caveats in the documentation: http://pandas.pydata.org/pandas-docs/stable/indexing.html#indexing-view-versus-copy\n",
      "  \"\"\"Entry point for launching an IPython kernel.\n"
     ]
    },
    {
     "data": {
      "text/html": [
       "<div>\n",
       "<style scoped>\n",
       "    .dataframe tbody tr th:only-of-type {\n",
       "        vertical-align: middle;\n",
       "    }\n",
       "\n",
       "    .dataframe tbody tr th {\n",
       "        vertical-align: top;\n",
       "    }\n",
       "\n",
       "    .dataframe thead th {\n",
       "        text-align: right;\n",
       "    }\n",
       "</style>\n",
       "<table border=\"1\" class=\"dataframe\">\n",
       "  <thead>\n",
       "    <tr style=\"text-align: right;\">\n",
       "      <th></th>\n",
       "      <th>Average_Cost_Of_Attendance_By_Academic_Year</th>\n",
       "      <th>Median_earn_10yr_postgrad</th>\n",
       "      <th>Med_Student_Debt_Non_First_Gen</th>\n",
       "      <th>Type</th>\n",
       "    </tr>\n",
       "  </thead>\n",
       "  <tbody>\n",
       "    <tr>\n",
       "      <th>0</th>\n",
       "      <td>22667.0</td>\n",
       "      <td>31000</td>\n",
       "      <td>14000</td>\n",
       "      <td>Public</td>\n",
       "    </tr>\n",
       "    <tr>\n",
       "      <th>1</th>\n",
       "      <td>22684.0</td>\n",
       "      <td>41200</td>\n",
       "      <td>15000</td>\n",
       "      <td>Public</td>\n",
       "    </tr>\n",
       "    <tr>\n",
       "      <th>2</th>\n",
       "      <td>13380.0</td>\n",
       "      <td>39600</td>\n",
       "      <td>10750</td>\n",
       "      <td>Private</td>\n",
       "    </tr>\n",
       "    <tr>\n",
       "      <th>3</th>\n",
       "      <td>22059.0</td>\n",
       "      <td>46700</td>\n",
       "      <td>13502</td>\n",
       "      <td>Public</td>\n",
       "    </tr>\n",
       "    <tr>\n",
       "      <th>4</th>\n",
       "      <td>19242.0</td>\n",
       "      <td>27700</td>\n",
       "      <td>15250</td>\n",
       "      <td>Public</td>\n",
       "    </tr>\n",
       "  </tbody>\n",
       "</table>\n",
       "</div>"
      ],
      "text/plain": [
       "   Average_Cost_Of_Attendance_By_Academic_Year Median_earn_10yr_postgrad  \\\n",
       "0                                      22667.0                     31000   \n",
       "1                                      22684.0                     41200   \n",
       "2                                      13380.0                     39600   \n",
       "3                                      22059.0                     46700   \n",
       "4                                      19242.0                     27700   \n",
       "\n",
       "  Med_Student_Debt_Non_First_Gen     Type  \n",
       "0                          14000   Public  \n",
       "1                          15000   Public  \n",
       "2                          10750  Private  \n",
       "3                          13502   Public  \n",
       "4                          15250   Public  "
      ]
     },
     "execution_count": 8,
     "metadata": {},
     "output_type": "execute_result"
    }
   ],
   "source": [
    "earninings_cost_debt_type_clean[\"Type\"] =  schoolType.Type.str.split().str.get(0)\n",
    "earninings_cost_debt_type_clean.head()"
   ]
  },
  {
   "cell_type": "code",
   "execution_count": 9,
   "metadata": {},
   "outputs": [
    {
     "name": "stderr",
     "output_type": "stream",
     "text": [
      "/Users/brianvanhoff/anaconda3/envs/pythondata/lib/python3.7/site-packages/ipykernel_launcher.py:1: SettingWithCopyWarning: \n",
      "A value is trying to be set on a copy of a slice from a DataFrame.\n",
      "Try using .loc[row_indexer,col_indexer] = value instead\n",
      "\n",
      "See the caveats in the documentation: http://pandas.pydata.org/pandas-docs/stable/indexing.html#indexing-view-versus-copy\n",
      "  \"\"\"Entry point for launching an IPython kernel.\n"
     ]
    },
    {
     "data": {
      "text/html": [
       "<div>\n",
       "<style scoped>\n",
       "    .dataframe tbody tr th:only-of-type {\n",
       "        vertical-align: middle;\n",
       "    }\n",
       "\n",
       "    .dataframe tbody tr th {\n",
       "        vertical-align: top;\n",
       "    }\n",
       "\n",
       "    .dataframe thead th {\n",
       "        text-align: right;\n",
       "    }\n",
       "</style>\n",
       "<table border=\"1\" class=\"dataframe\">\n",
       "  <thead>\n",
       "    <tr style=\"text-align: right;\">\n",
       "      <th></th>\n",
       "      <th>Average_Cost_Of_Attendance_By_Academic_Year</th>\n",
       "      <th>Median_earn_10yr_postgrad</th>\n",
       "      <th>Med_Student_Debt_Non_First_Gen</th>\n",
       "      <th>Type</th>\n",
       "    </tr>\n",
       "  </thead>\n",
       "  <tbody>\n",
       "    <tr>\n",
       "      <th>0</th>\n",
       "      <td>22667.0</td>\n",
       "      <td>31000</td>\n",
       "      <td>14000</td>\n",
       "      <td>0</td>\n",
       "    </tr>\n",
       "    <tr>\n",
       "      <th>1</th>\n",
       "      <td>22684.0</td>\n",
       "      <td>41200</td>\n",
       "      <td>15000</td>\n",
       "      <td>0</td>\n",
       "    </tr>\n",
       "    <tr>\n",
       "      <th>2</th>\n",
       "      <td>13380.0</td>\n",
       "      <td>39600</td>\n",
       "      <td>10750</td>\n",
       "      <td>1</td>\n",
       "    </tr>\n",
       "    <tr>\n",
       "      <th>3</th>\n",
       "      <td>22059.0</td>\n",
       "      <td>46700</td>\n",
       "      <td>13502</td>\n",
       "      <td>0</td>\n",
       "    </tr>\n",
       "    <tr>\n",
       "      <th>4</th>\n",
       "      <td>19242.0</td>\n",
       "      <td>27700</td>\n",
       "      <td>15250</td>\n",
       "      <td>0</td>\n",
       "    </tr>\n",
       "  </tbody>\n",
       "</table>\n",
       "</div>"
      ],
      "text/plain": [
       "   Average_Cost_Of_Attendance_By_Academic_Year Median_earn_10yr_postgrad  \\\n",
       "0                                      22667.0                     31000   \n",
       "1                                      22684.0                     41200   \n",
       "2                                      13380.0                     39600   \n",
       "3                                      22059.0                     46700   \n",
       "4                                      19242.0                     27700   \n",
       "\n",
       "  Med_Student_Debt_Non_First_Gen  Type  \n",
       "0                          14000     0  \n",
       "1                          15000     0  \n",
       "2                          10750     1  \n",
       "3                          13502     0  \n",
       "4                          15250     0  "
      ]
     },
     "execution_count": 9,
     "metadata": {},
     "output_type": "execute_result"
    }
   ],
   "source": [
    "earninings_cost_debt_type_clean[\"Type\"] = pd.get_dummies(earninings_cost_debt_type_clean[\"Type\"])\n",
    "earninings_cost_debt_type_clean.head()"
   ]
  },
  {
   "cell_type": "code",
   "execution_count": 10,
   "metadata": {},
   "outputs": [
    {
     "name": "stderr",
     "output_type": "stream",
     "text": [
      "/Users/brianvanhoff/anaconda3/envs/pythondata/lib/python3.7/site-packages/ipykernel_launcher.py:1: SettingWithCopyWarning: \n",
      "A value is trying to be set on a copy of a slice from a DataFrame.\n",
      "Try using .loc[row_indexer,col_indexer] = value instead\n",
      "\n",
      "See the caveats in the documentation: http://pandas.pydata.org/pandas-docs/stable/indexing.html#indexing-view-versus-copy\n",
      "  \"\"\"Entry point for launching an IPython kernel.\n",
      "/Users/brianvanhoff/anaconda3/envs/pythondata/lib/python3.7/site-packages/ipykernel_launcher.py:2: SettingWithCopyWarning: \n",
      "A value is trying to be set on a copy of a slice from a DataFrame.\n",
      "Try using .loc[row_indexer,col_indexer] = value instead\n",
      "\n",
      "See the caveats in the documentation: http://pandas.pydata.org/pandas-docs/stable/indexing.html#indexing-view-versus-copy\n",
      "  \n",
      "/Users/brianvanhoff/anaconda3/envs/pythondata/lib/python3.7/site-packages/ipykernel_launcher.py:3: SettingWithCopyWarning: \n",
      "A value is trying to be set on a copy of a slice from a DataFrame.\n",
      "Try using .loc[row_indexer,col_indexer] = value instead\n",
      "\n",
      "See the caveats in the documentation: http://pandas.pydata.org/pandas-docs/stable/indexing.html#indexing-view-versus-copy\n",
      "  This is separate from the ipykernel package so we can avoid doing imports until\n",
      "/Users/brianvanhoff/anaconda3/envs/pythondata/lib/python3.7/site-packages/ipykernel_launcher.py:4: SettingWithCopyWarning: \n",
      "A value is trying to be set on a copy of a slice from a DataFrame.\n",
      "Try using .loc[row_indexer,col_indexer] = value instead\n",
      "\n",
      "See the caveats in the documentation: http://pandas.pydata.org/pandas-docs/stable/indexing.html#indexing-view-versus-copy\n",
      "  after removing the cwd from sys.path.\n"
     ]
    }
   ],
   "source": [
    "earninings_cost_debt_type_clean[\"Average_Cost_Of_Attendance_By_Academic_Year\"] = earninings_cost_debt_type_clean[\"Average_Cost_Of_Attendance_By_Academic_Year\"].replace('PrivacySuppressed', '')\n",
    "earninings_cost_debt_type_clean[\"Median_earn_10yr_postgrad\"] = earninings_cost_debt_type_clean[\"Median_earn_10yr_postgrad\"].replace('PrivacySuppressed', '')\n",
    "earninings_cost_debt_type_clean[\"Med_Student_Debt_Non_First_Gen\"] = earninings_cost_debt_type_clean[\"Med_Student_Debt_Non_First_Gen\"].replace('PrivacySuppressed', '')\n",
    "earninings_cost_debt_type_clean[\"Type\"] = earninings_cost_debt_type_clean[\"Type\"].replace('PrivacySuppressed', '')\n",
    "# earninings_cost_debt_type_clean"
   ]
  },
  {
   "cell_type": "code",
   "execution_count": 11,
   "metadata": {},
   "outputs": [],
   "source": [
    "earninings_cost_debt_type_clean = earninings_cost_debt_type_clean.dropna(axis=0,  how='any')\n"
   ]
  },
  {
   "cell_type": "code",
   "execution_count": 12,
   "metadata": {},
   "outputs": [],
   "source": [
    "# earninings_cost_debt_type_clean = earninings_cost_debt_type_clean.drop(earninings_cost_debt_type_clean[earninings_cost_debt_type_clean.Average_Cost_Of_Attendance_By_Academic_Year == ''].index)\n",
    "earninings_cost_debt_type_clean = earninings_cost_debt_type_clean.drop(earninings_cost_debt_type_clean[earninings_cost_debt_type_clean.Median_earn_10yr_postgrad == ''].index)\n",
    "earninings_cost_debt_type_clean = earninings_cost_debt_type_clean.drop(earninings_cost_debt_type_clean[earninings_cost_debt_type_clean.Med_Student_Debt_Non_First_Gen == ''].index)\n"
   ]
  },
  {
   "cell_type": "code",
   "execution_count": 13,
   "metadata": {},
   "outputs": [],
   "source": [
    "earninings_cost_debt_type_clean = earninings_cost_debt_type_clean.dropna(axis=0,  how='any')"
   ]
  },
  {
   "cell_type": "code",
   "execution_count": 14,
   "metadata": {},
   "outputs": [
    {
     "name": "stdout",
     "output_type": "stream",
     "text": [
      "(3150, 3) (3150,)\n"
     ]
    }
   ],
   "source": [
    "# Assign X (data) and y (target)\n",
    "X = earninings_cost_debt_type_clean.drop(\"Type\", axis=1)\n",
    "y = earninings_cost_debt_type_clean[\"Type\"]\n",
    "print(X.shape, y.shape)"
   ]
  },
  {
   "cell_type": "code",
   "execution_count": 15,
   "metadata": {},
   "outputs": [],
   "source": [
    "from sklearn.model_selection import train_test_split\n",
    "\n",
    "X_train, X_test, y_train, y_test = train_test_split(X, y, random_state=1, stratify=y)\n",
    "# X_train.dtype()"
   ]
  },
  {
   "cell_type": "code",
   "execution_count": 16,
   "metadata": {},
   "outputs": [
    {
     "data": {
      "text/plain": [
       "LogisticRegression(C=1.0, class_weight=None, dual=False, fit_intercept=True,\n",
       "          intercept_scaling=1, max_iter=100, multi_class='warn',\n",
       "          n_jobs=None, penalty='l2', random_state=None, solver='warn',\n",
       "          tol=0.0001, verbose=0, warm_start=False)"
      ]
     },
     "execution_count": 16,
     "metadata": {},
     "output_type": "execute_result"
    }
   ],
   "source": [
    "from sklearn.linear_model import LogisticRegression\n",
    "model = LogisticRegression()\n",
    "model"
   ]
  },
  {
   "cell_type": "code",
   "execution_count": 17,
   "metadata": {},
   "outputs": [
    {
     "name": "stderr",
     "output_type": "stream",
     "text": [
      "/Users/brianvanhoff/anaconda3/envs/pythondata/lib/python3.7/site-packages/sklearn/linear_model/logistic.py:433: FutureWarning: Default solver will be changed to 'lbfgs' in 0.22. Specify a solver to silence this warning.\n",
      "  FutureWarning)\n"
     ]
    },
    {
     "data": {
      "text/plain": [
       "LogisticRegression(C=1.0, class_weight=None, dual=False, fit_intercept=True,\n",
       "          intercept_scaling=1, max_iter=100, multi_class='warn',\n",
       "          n_jobs=None, penalty='l2', random_state=None, solver='warn',\n",
       "          tol=0.0001, verbose=0, warm_start=False)"
      ]
     },
     "execution_count": 17,
     "metadata": {},
     "output_type": "execute_result"
    }
   ],
   "source": [
    "model.fit(X_train, y_train)"
   ]
  },
  {
   "cell_type": "code",
   "execution_count": 18,
   "metadata": {},
   "outputs": [
    {
     "name": "stdout",
     "output_type": "stream",
     "text": [
      "Training Data Score: 0.9229466553767993\n",
      "Testing Data Score: 0.9149746192893401\n"
     ]
    }
   ],
   "source": [
    "print(f\"Training Data Score: {model.score(X_train, y_train)}\")\n",
    "print(f\"Testing Data Score: {model.score(X_test, y_test)}\")"
   ]
  },
  {
   "cell_type": "code",
   "execution_count": 21,
   "metadata": {},
   "outputs": [
    {
     "name": "stdout",
     "output_type": "stream",
     "text": [
      "First 10 Predictions:   [1, 1, 0, 1, 0, 1, 0, 1, 0, 0]\n",
      "First 10 Actual labels: [1, 0, 0, 1, 0, 1, 1, 0, 0, 0]\n"
     ]
    }
   ],
   "source": [
    "predictions = model.predict(X_test)\n",
    "print(f\"First 10 Predictions:   {predictions[:10].tolist()}\")\n",
    "print(f\"First 10 Actual labels: {y_test[:10].tolist()}\")"
   ]
  },
  {
   "cell_type": "code",
   "execution_count": 36,
   "metadata": {},
   "outputs": [],
   "source": [
    "# pd.DataFrame({\"Prediction\": predictions, \"Actual\": y_test}).reset_index(drop=True)"
   ]
  },
  {
   "cell_type": "code",
   "execution_count": null,
   "metadata": {},
   "outputs": [],
   "source": [
    "average_cost = int(input(\"What is the average cost of attendance per year: \"))\n",
    "earn_10y_post_grad = int(input(\"What are/were your earnings 10 years after graduation? \"))\n",
    "debt = int(input(\"How much is your debt? \"))\n"
   ]
  },
  {
   "cell_type": "code",
   "execution_count": null,
   "metadata": {},
   "outputs": [],
   "source": [
    "user_prediction = [{'Average_Cost_Of_Attendance_By_Academic_Year':average_cost, \n",
    "                   'Median_earn_10yr_postgrad': earn_10y_post_grad,\n",
    "                   'Med_Student_Debt_Non_First_Gen': debt}]\n",
    "user_prediction = pd.DataFrame(user_prediction)"
   ]
  },
  {
   "cell_type": "code",
   "execution_count": null,
   "metadata": {},
   "outputs": [],
   "source": [
    "model_prediction = model.predict(user_prediction)[0]\n",
    "if model_prediction == 0:\n",
    "    print(\"you most likely went to a public school\")\n",
    "else:\n",
    "    print(\"you most likely went to a private school\")\n",
    "model_prediction"
   ]
  },
  {
   "cell_type": "code",
   "execution_count": null,
   "metadata": {},
   "outputs": [],
   "source": [
    "from sklearn.externals import joblib\n",
    "# save the model to disk\n",
    "filename = 'earninings_cost_debt_type.sav'\n",
    "joblib.dump(model, filename)"
   ]
  }
 ],
 "metadata": {
  "kernelspec": {
   "display_name": "Python 3",
   "language": "python",
   "name": "python3"
  },
  "language_info": {
   "codemirror_mode": {
    "name": "ipython",
    "version": 3
   },
   "file_extension": ".py",
   "mimetype": "text/x-python",
   "name": "python",
   "nbconvert_exporter": "python",
   "pygments_lexer": "ipython3",
   "version": "3.6.6"
  }
 },
 "nbformat": 4,
 "nbformat_minor": 2
}
