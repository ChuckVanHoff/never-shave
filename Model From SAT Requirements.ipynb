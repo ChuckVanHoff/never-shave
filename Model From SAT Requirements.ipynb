{
 "cells": [
  {
   "cell_type": "markdown",
   "metadata": {},
   "source": [
    "# Create the model based on  college SAT requirements "
   ]
  },
  {
   "cell_type": "markdown",
   "metadata": {},
   "source": [
    "This notebook is about creating a model to predict earnings ten years after college graduation based on the college's admissions minumum SAT score requirement.\n",
    "\n",
    "Models will be created for both mean earnings and median earnings.\n",
    "\n",
    "We will attempt to create models from the data using three techinques from Sci Kit Learn: KNN, SVC, CNN"
   ]
  },
  {
   "cell_type": "code",
   "execution_count": 110,
   "metadata": {},
   "outputs": [],
   "source": [
    "# For pulling the data\n",
    "import pandas as pd\n",
    "\n",
    "# For SKLearn techniques\n",
    "from sklearn.model_selection import train_test_split\n",
    "from sklearn.neighbors import KNeighborsClassifier\n",
    "from sklearn.svm import SVC\n",
    "from sklearn.metrics import classification_report\n",
    "from sklearn.preprocessing import StandardScaler\n",
    "\n",
    "# For visualizations\n",
    "import matplotlib.pyplot as plt"
   ]
  },
  {
   "cell_type": "markdown",
   "metadata": {},
   "source": [
    "## Create the models for mean earnings"
   ]
  },
  {
   "cell_type": "code",
   "execution_count": 111,
   "metadata": {},
   "outputs": [
    {
     "data": {
      "text/html": [
       "<div>\n",
       "<style scoped>\n",
       "    .dataframe tbody tr th:only-of-type {\n",
       "        vertical-align: middle;\n",
       "    }\n",
       "\n",
       "    .dataframe tbody tr th {\n",
       "        vertical-align: top;\n",
       "    }\n",
       "\n",
       "    .dataframe thead th {\n",
       "        text-align: right;\n",
       "    }\n",
       "</style>\n",
       "<table border=\"1\" class=\"dataframe\">\n",
       "  <thead>\n",
       "    <tr style=\"text-align: right;\">\n",
       "      <th></th>\n",
       "      <th>UNITID</th>\n",
       "      <th>mean_earnings_after10</th>\n",
       "      <th>median_earnings_after10</th>\n",
       "      <th>Sat_Mp_Critical_Reading</th>\n",
       "      <th>Sat_Mp_Math</th>\n",
       "    </tr>\n",
       "  </thead>\n",
       "  <tbody>\n",
       "    <tr>\n",
       "      <th>0</th>\n",
       "      <td>100654</td>\n",
       "      <td>35500</td>\n",
       "      <td>31000</td>\n",
       "      <td>425.0</td>\n",
       "      <td>420.0</td>\n",
       "    </tr>\n",
       "    <tr>\n",
       "      <th>1</th>\n",
       "      <td>100663</td>\n",
       "      <td>48400</td>\n",
       "      <td>41200</td>\n",
       "      <td>560.0</td>\n",
       "      <td>575.0</td>\n",
       "    </tr>\n",
       "    <tr>\n",
       "      <th>2</th>\n",
       "      <td>100706</td>\n",
       "      <td>52000</td>\n",
       "      <td>46700</td>\n",
       "      <td>590.0</td>\n",
       "      <td>610.0</td>\n",
       "    </tr>\n",
       "    <tr>\n",
       "      <th>3</th>\n",
       "      <td>100724</td>\n",
       "      <td>30600</td>\n",
       "      <td>27700</td>\n",
       "      <td>415.0</td>\n",
       "      <td>410.0</td>\n",
       "    </tr>\n",
       "    <tr>\n",
       "      <th>4</th>\n",
       "      <td>100751</td>\n",
       "      <td>51600</td>\n",
       "      <td>44500</td>\n",
       "      <td>550.0</td>\n",
       "      <td>555.0</td>\n",
       "    </tr>\n",
       "  </tbody>\n",
       "</table>\n",
       "</div>"
      ],
      "text/plain": [
       "   UNITID  mean_earnings_after10  median_earnings_after10  \\\n",
       "0  100654                  35500                    31000   \n",
       "1  100663                  48400                    41200   \n",
       "2  100706                  52000                    46700   \n",
       "3  100724                  30600                    27700   \n",
       "4  100751                  51600                    44500   \n",
       "\n",
       "   Sat_Mp_Critical_Reading  Sat_Mp_Math  \n",
       "0                    425.0        420.0  \n",
       "1                    560.0        575.0  \n",
       "2                    590.0        610.0  \n",
       "3                    415.0        410.0  \n",
       "4                    550.0        555.0  "
      ]
     },
     "execution_count": 111,
     "metadata": {},
     "output_type": "execute_result"
    }
   ],
   "source": [
    "# Pull in the data\n",
    "df = pd.read_csv('Data/data_for_SAT_model.csv')\n",
    "df.head()"
   ]
  },
  {
   "cell_type": "markdown",
   "metadata": {},
   "source": [
    "### KNN"
   ]
  },
  {
   "cell_type": "code",
   "execution_count": 112,
   "metadata": {},
   "outputs": [
    {
     "data": {
      "text/plain": [
       "1203"
      ]
     },
     "execution_count": 112,
     "metadata": {},
     "output_type": "execute_result"
    }
   ],
   "source": [
    "# Seaparte the target data from the predictor data and drop the 'name' and 'group' columns\n",
    "target = df['mean_earnings_after10']\n",
    "data = df.drop(['UNITID', 'median_earnings_after10', 'mean_earnings_after10'], axis = 1)\n",
    "data.tail()\n",
    "len(data)"
   ]
  },
  {
   "cell_type": "code",
   "execution_count": 113,
   "metadata": {},
   "outputs": [],
   "source": [
    "# Create bins for the target data based on the federal taxable income brackets\n",
    "bins = [0, 9525, 38700, 82500, 157500]\n",
    "target = pd.cut(target, bins=bins)\n",
    "\n",
    "bin_target = []\n",
    "# Convert these values to strings for OneHotEncoding\n",
    "for value in target:\n",
    "    value = str(value)\n",
    "    bin_target.append(value)\n",
    "\n",
    "bin_target = pd.Series(bin_target)\n",
    "target = bin_target"
   ]
  },
  {
   "cell_type": "code",
   "execution_count": 114,
   "metadata": {},
   "outputs": [
    {
     "name": "stdout",
     "output_type": "stream",
     "text": [
      "The training set is 902 rows and testing set is 301 rows.\n"
     ]
    }
   ],
   "source": [
    "# Split the data sets into test and training subsets\n",
    "X_train, X_test, y_train, y_test = train_test_split(data, target, random_state=42)\n",
    "\n",
    "# Check to see how the data was split\n",
    "print(f'The training set is {len(X_train)} rows and testing set is {len(X_test)} rows.')\n"
   ]
  },
  {
   "cell_type": "code",
   "execution_count": 115,
   "metadata": {},
   "outputs": [],
   "source": [
    "# Loop through different k values to see which has the highest accuracy\n",
    "# Note: We only use odd numbers because we don't want any ties\n",
    "train_scores = []\n",
    "test_scores = []\n",
    "for k in range(1, 50, 1):\n",
    "    knn = KNeighborsClassifier(n_neighbors=k)\n",
    "    knn.fit(X_train, y_train)\n",
    "    train_score = knn.score(X_train, y_train)\n",
    "    test_score = knn.score(X_test, y_test)\n",
    "    train_scores.append(train_score)\n",
    "    test_scores.append(test_score)\n",
    "#     print(f\"k: {k}, Train/Test Score: {train_score:.3f}/{test_score:.3f}\")"
   ]
  },
  {
   "cell_type": "code",
   "execution_count": 116,
   "metadata": {},
   "outputs": [
    {
     "data": {
      "image/png": "[encoded data removed]",
      "text/plain": [
       "<Figure size 432x288 with 1 Axes>"
      ]
     },
     "metadata": {
      "needs_background": "light"
     },
     "output_type": "display_data"
    }
   ],
   "source": [
    "# Visualize the data with a graph\n",
    "plt.plot(range(1, 50, 1), train_scores, marker='o')\n",
    "plt.plot(range(1, 50, 1), test_scores, marker=\"x\")\n",
    "plt.xlabel(\"k neighbors\")\n",
    "plt.ylabel(\"Testing accuracy Score\")\n",
    "plt.show()"
   ]
  },
  {
   "cell_type": "markdown",
   "metadata": {},
   "source": [
    "Here we created 50 models using k neighbors ranging from 1 to 50, hitting each value. It looks like the model offers the best accuracy when the test data is compared to about 45 of the \"closest\" neighbors."
   ]
  },
  {
   "cell_type": "markdown",
   "metadata": {},
   "source": [
    "## SVC"
   ]
  },
  {
   "cell_type": "code",
   "execution_count": 117,
   "metadata": {},
   "outputs": [
    {
     "data": {
      "text/plain": [
       "SVC(C=1.0, cache_size=200, class_weight=None, coef0=0.0,\n",
       "  decision_function_shape='ovr', degree=3, gamma='auto_deprecated',\n",
       "  kernel='linear', max_iter=-1, probability=False, random_state=None,\n",
       "  shrinking=True, tol=0.001, verbose=False)"
      ]
     },
     "execution_count": 117,
     "metadata": {},
     "output_type": "execute_result"
    }
   ],
   "source": [
    "# Create the SVN model and fit it to the test data\n",
    "model = SVC(kernel='linear')\n",
    "model.fit(X_train, y_train)"
   ]
  },
  {
   "cell_type": "code",
   "execution_count": 118,
   "metadata": {},
   "outputs": [
    {
     "data": {
      "text/plain": [
       "0.8205980066445183"
      ]
     },
     "execution_count": 118,
     "metadata": {},
     "output_type": "execute_result"
    }
   ],
   "source": [
    "# Make predictions\n",
    "predictions = model.predict(X_test)\n",
    "model.score(X_test, y_test)"
   ]
  },
  {
   "cell_type": "markdown",
   "metadata": {},
   "source": [
    "### Create a way for users to predict their own outcomes"
   ]
  },
  {
   "cell_type": "code",
   "execution_count": 119,
   "metadata": {},
   "outputs": [
    {
     "name": "stdout",
     "output_type": "stream",
     "text": [
      "What was your best SAT math score? 567\n",
      "What was your best SAT reading score? 678\n"
     ]
    }
   ],
   "source": [
    "sat_math = int(input(f'What was your best SAT math score? '))\n",
    "sat_reading = int(input(f'What was your best SAT reading score? '))\n",
    "\n",
    "predictor_data = pd.DataFrame([{'Sat_Mp_Critical_Reading':sat_math,\n",
    "                               'Sat_Mp_Math':sat_reading}])"
   ]
  },
  {
   "cell_type": "code",
   "execution_count": 122,
   "metadata": {},
   "outputs": [
    {
     "name": "stdout",
     "output_type": "stream",
     "text": [
      "You might reasonably expect your earnings ten years after graduation to be in this range ['(38700, 82500]'].\n"
     ]
    }
   ],
   "source": [
    "# user_predictions = model.predict(predictor_data)\n",
    "# user_predictions\n",
    "print(f'You might reasonably expect your earnings ten years after graduation to be in this range {user_predictions}.')\n"
   ]
  },
  {
   "cell_type": "code",
   "execution_count": null,
   "metadata": {},
   "outputs": [],
   "source": []
  }
 ],
 "metadata": {
  "kernelspec": {
   "display_name": "Python 3",
   "language": "python",
   "name": "python3"
  },
  "language_info": {
   "codemirror_mode": {
    "name": "ipython",
    "version": 3
   },
   "file_extension": ".py",
   "mimetype": "text/x-python",
   "name": "python",
   "nbconvert_exporter": "python",
   "pygments_lexer": "ipython3",
   "version": "3.7.2"
  }
 },
 "nbformat": 4,
 "nbformat_minor": 2
}
